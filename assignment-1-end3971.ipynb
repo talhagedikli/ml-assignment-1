{
 "cells": [
  {
   "cell_type": "markdown",
   "metadata": {},
   "source": [
    "# Group Memebers\n",
    "- Muhammed Talha Gedikli - 19069608\n",
    "- Ahmet Emin Demirbaş - "
   ]
  },
  {
   "cell_type": "markdown",
   "metadata": {},
   "source": [
    "# Question 1"
   ]
  },
  {
   "cell_type": "markdown",
   "metadata": {},
   "source": [
    "### Load required libraries and data"
   ]
  },
  {
   "cell_type": "code",
   "execution_count": 49,
   "metadata": {},
   "outputs": [
    {
     "name": "stdout",
     "output_type": "stream",
     "text": [
      "done\n"
     ]
    }
   ],
   "source": [
    "# Import required libraries\n",
    "import pandas as pd\n",
    "import numpy as np\n",
    "\n",
    "# Read data\n",
    "data_all = pd.read_excel('./Asg1 Data.xlsx')\n",
    "\n",
    "# For convenience of reliability and readability, define X0 to column of ones\n",
    "data_all['X0'] = [1 for i in range(len(data_all.index))]\n",
    "\n",
    "# Reassign the data order for readability\n",
    "data_all = data_all[['X0', 'X1', 'X2', 'X3', 'X4', 'X5', 'Y']]\n",
    "\n",
    "# Get the column names for x\n",
    "# Y column can be called by 'data_all.Y'\n",
    "X_columns = ['X'+str(i) for i in range(len(data_all.columns)-1)] # -1 because of the 'Y' column\n",
    "\n",
    "print('done')"
   ]
  },
  {
   "cell_type": "markdown",
   "metadata": {},
   "source": [
    "Note: Added a column of ones called 'X0' for readability and easy of use. Reason I do this is actually I want the size columns of X's to be equal to size of the thetas. Here it is:"
   ]
  },
  {
   "cell_type": "code",
   "execution_count": 50,
   "metadata": {},
   "outputs": [
    {
     "name": "stdout",
     "output_type": "stream",
     "text": [
      "    X0        X1        X2         X3         X4        X5           Y\n",
      "0    1  5.070040  3.216041   7.314219   4.914274  2.298624  166.845348\n",
      "1    1  3.289895  6.098758  12.513047   4.952361  3.669576  177.761324\n",
      "2    1  8.321482  5.872616   8.272805   6.123539  5.037049  271.932515\n",
      "3    1  2.391430  5.447249  13.211005   4.384228  6.323588  158.586530\n",
      "4    1  2.976470  6.552324   7.889798   6.885678  1.810266  188.995212\n",
      "..  ..       ...       ...        ...        ...       ...         ...\n",
      "95   1  7.932066  4.119327  14.253517   5.315378  5.479080  223.145999\n",
      "96   1  3.722648  3.101230  12.454451   3.950987  2.991333  139.290134\n",
      "97   1  0.266121  5.311930   9.985809   5.048769  5.165960  147.060504\n",
      "98   1  0.932646  4.031983   7.018494  10.760643  6.605762  156.150843\n",
      "99   1  6.904508  4.352794  13.947417  12.054018  5.100406  212.326746\n",
      "\n",
      "[100 rows x 7 columns]\n"
     ]
    }
   ],
   "source": [
    "print(data_all)"
   ]
  },
  {
   "cell_type": "markdown",
   "metadata": {},
   "source": [
    "### Find optimal thetas for question one"
   ]
  },
  {
   "cell_type": "code",
   "execution_count": 51,
   "metadata": {},
   "outputs": [
    {
     "name": "stdout",
     "output_type": "stream",
     "text": [
      "theta 0: 2.0069477357333474\n",
      "theta 1: 11.923087027392262\n",
      "theta 2: 7.517591214775227\n",
      "theta 3: 5.052846479903033\n",
      "theta 4: 4.082902029548305\n",
      "theta 5: 3.1572579867730277\n"
     ]
    }
   ],
   "source": [
    "def gradient_descent_thetas(alpha=0.1, start=0, end=len(data_all.index)):\n",
    "    '''\n",
    "    Returns optimal thetas respect to given period(from 'start' to 'end') and 'alpha' \n",
    "    '''\n",
    "    # Get the data row from start to end\n",
    "    d = data_all.iloc[start:end]\n",
    "\n",
    "    # Split data's x and y values\n",
    "    # X train and Y train\n",
    "    xt = d[X_columns]\n",
    "    yt = d.Y\n",
    "\n",
    "    # Get the length of the rows (m)\n",
    "    m_train = len(xt.index)\n",
    "    \n",
    "    # Init the original thetas\n",
    "    t = [1 for i in range(len(xt.columns))]\n",
    "\n",
    "    # Create temporary thetas for calculating new thetas values with old ones\n",
    "    # This will upgrade after calculation the original theta\n",
    "    temp_thetas = t.copy()\n",
    "\n",
    "    # for every row (r)\n",
    "    for r in range(m_train):\n",
    "        # Update temporary thetas outside of the calculation of the new thetas, use old ones instead\n",
    "        temp_thetas = t.copy()\n",
    "        \n",
    "        # for every column (c)\n",
    "        for c in range(len(t)):\n",
    "            # Split the error part for readability\n",
    "            sm = (xt.iloc[r, c] * (temp_thetas[0]*(xt.iloc[r, 0]) + \n",
    "                                                                temp_thetas[1]*(xt.iloc[r, 1]) + \n",
    "                                                                temp_thetas[2]*(xt.iloc[r, 2]) + \n",
    "                                                                temp_thetas[3]*(xt.iloc[r, 3]) + \n",
    "                                                                temp_thetas[4]*(xt.iloc[r, 4]) + \n",
    "                                                                temp_thetas[5]*(xt.iloc[r, 5]) - yt.iloc[r]))\n",
    "            # Find the new theta for each column (in each row)\n",
    "            t[c] = temp_thetas[c] - ((alpha/m_train)*sm)\n",
    "    return t\n",
    "\n",
    "# Find the original thetas with alpha equals 0.1\n",
    "optimal_thetas_1 = gradient_descent_thetas(alpha=0.1, start=0, end=70)\n",
    "\n",
    "# Print theta values\n",
    "for i,v in enumerate(optimal_thetas_1):\n",
    "    print('theta '+str(i)+': '+str(v))"
   ]
  },
  {
   "cell_type": "markdown",
   "metadata": {},
   "source": [
    "### Get cost function values"
   ]
  },
  {
   "cell_type": "code",
   "execution_count": 52,
   "metadata": {},
   "outputs": [
    {
     "name": "stdout",
     "output_type": "stream",
     "text": [
      "Total cfv for test dataset: 286.2302758729008\n"
     ]
    }
   ],
   "source": [
    "def gradient_descent_cfv(thetas, start=0, end=len(data_all.index)):\n",
    "    ''' \n",
    "    Returns erros of each row in a list respect to given given period(from 'start' to 'end') and thetas\n",
    "    '''\n",
    "    # Get the data row from start to end\n",
    "    d = data_all.iloc[start:end]\n",
    "\n",
    "    # Get current thetas\n",
    "    t = thetas\n",
    "\n",
    "    # Split data's x and y values\n",
    "    # X test and Y test\n",
    "    xt = d[X_columns]\n",
    "    yt = d.Y\n",
    "\n",
    "    # Get the length of the rows (m)\n",
    "    m_test = len(xt.index)\n",
    "    \n",
    "    # Init a list for storing each row's cost function value\n",
    "    # For example cfv_list[0] will be equal to first row's cost function value\n",
    "    cfv_list = []\n",
    "\n",
    "    # for every row (r)\n",
    "    for r in range(m_test):\n",
    "        # Init the cost function values for each row\n",
    "        cfv_current = 0\n",
    "        # calculate the current \n",
    "        cfv_current = (t[0]*(xt.iloc[r, 0]) + \n",
    "                                    t[1]*(xt.iloc[r, 1]) + \n",
    "                                    t[2]*(xt.iloc[r, 2]) + \n",
    "                                    t[3]*(xt.iloc[r, 3]) + \n",
    "                                    t[4]*(xt.iloc[r, 4]) + \n",
    "                                    t[5]*(xt.iloc[r, 5]) - yt.iloc[r])**2\n",
    "        cfv_list.append(1/(2*m_test)*cfv_current)\n",
    "    return cfv_list\n",
    "\n",
    "# Get cfv for each row in a list\n",
    "cost_function_values_1 = gradient_descent_cfv(thetas=optimal_thetas_1, start=70, end=len(data_all.index))\n",
    "\n",
    "# Get the sum of costs\n",
    "cost_function_values_total_1 = sum(cost_function_values_1)\n",
    "\n",
    "print(\"Total cfv for test dataset: \"+ str(cost_function_values_total_1))"
   ]
  },
  {
   "cell_type": "markdown",
   "metadata": {},
   "source": [
    "# Question 2"
   ]
  },
  {
   "cell_type": "markdown",
   "metadata": {},
   "source": [
    "### Find optimal thetas for question two"
   ]
  },
  {
   "cell_type": "code",
   "execution_count": 53,
   "metadata": {},
   "outputs": [
    {
     "name": "stdout",
     "output_type": "stream",
     "text": [
      "theta 0: 1.9598553641268572\n",
      "theta 1: 11.658012509504356\n",
      "theta 2: 7.42538264382168\n",
      "theta 3: 4.31536715083585\n",
      "theta 4: 3.2406115455712006\n",
      "theta 5: 2.7430069067527696\n"
     ]
    }
   ],
   "source": [
    "# Find optimal thetas for train (0:60) data in gradient descent algorithm\n",
    "# Use function we create in question one\n",
    "optimal_thetas_2 = gradient_descent_thetas(alpha=0.1, start=0, end=60)\n",
    "\n",
    "# Print theta values\n",
    "for i,v in enumerate(optimal_thetas_2):\n",
    "    print('theta ' + str(i) + ': ' + str(v))"
   ]
  },
  {
   "cell_type": "markdown",
   "metadata": {},
   "source": [
    "### Find the optimal delta with validation dataset"
   ]
  },
  {
   "cell_type": "code",
   "execution_count": 54,
   "metadata": {},
   "outputs": [
    {
     "name": "stdout",
     "output_type": "stream",
     "text": [
      "Total cfv for lambda equals 0.01: 343.435520594418\n",
      "Total cfv for lambda equals 0.1: 760.1978723307559\n",
      "Total cfv for lambda equals 1: 4927.821389694134\n",
      "\n",
      "Optimal lambda value: 0.01\n"
     ]
    }
   ],
   "source": [
    "# Define a function that finds the cost function value for regularized regression formula\n",
    "def regularized_regression_cfv(l, thetas, start=0, end=len(data_all.index)):\n",
    "    ''' \n",
    "    Returns erros of each row in a list respect to given given period(from 'start' to 'end'), thetas and lambda 'l'\n",
    "    '''\n",
    "    # Get the data row from start to end\n",
    "    d = data_all.iloc[start:end]\n",
    "\n",
    "    # Get current thetas\n",
    "    t = thetas\n",
    "\n",
    "    # Split data's x and y values\n",
    "    # X test and Y test\n",
    "    xt = d[X_columns]\n",
    "    yt = d.Y\n",
    "\n",
    "    # Get the length of the rows (m)\n",
    "    m_test = len(xt.index)\n",
    "    \n",
    "    # Init a list for storing each row's cost function value\n",
    "    # For example cfv_list[0] will be equal to first row's cost function value\n",
    "    cfv_list = []\n",
    "\n",
    "    # Sum of theta squares for calculation\n",
    "    # No need to do it in the each row, because it is already a constant\n",
    "    sum_of_theta_squared = 0\n",
    "    for i in t:\n",
    "        sum_of_theta_squared += i**2\n",
    "\n",
    "    # for every row (r)\n",
    "    for r in range(m_test):\n",
    "        # Create the variable to get the errors\n",
    "        # Doing separately for readability\n",
    "        # It resets to 0 each row because calculations for each row separately\n",
    "        error = 0\n",
    "        \n",
    "        # Calculate the current error\n",
    "        error = (t[0]*(xt.iloc[r, 0]) + \n",
    "                                    t[1]*(xt.iloc[r, 1]) + \n",
    "                                    t[2]*(xt.iloc[r, 2]) + \n",
    "                                    t[3]*(xt.iloc[r, 3]) + \n",
    "                                    t[4]*(xt.iloc[r, 4]) + \n",
    "                                    t[5]*(xt.iloc[r, 5]) - yt.iloc[r])**2\n",
    "\n",
    "        # Use formula to get row 'r's cfv and add it to the cfv_list\n",
    "        cfv_list.append(1/(2*m_test)*error + l*sum_of_theta_squared)\n",
    "    return cfv_list\n",
    "\n",
    "\n",
    "\n",
    "\n",
    "# CV to find optimal lamda (using validation set)\n",
    "print('Total cfv for lambda equals 0.01: '+ str(sum(regularized_regression_cfv(l=0.01, thetas=optimal_thetas_2, start=60, end=80))))    # 343.435520594418 (best=lowest error)\n",
    "print('Total cfv for lambda equals 0.1: '+ str(sum(regularized_regression_cfv(l=0.1, thetas=optimal_thetas_2, start=60, end=80))))      # 760.1978723307559\n",
    "print('Total cfv for lambda equals 1: '+ str(sum(regularized_regression_cfv(l=1, thetas=optimal_thetas_2, start=60, end=80))))          # 4927.821389694134\n",
    "\n",
    "# Take the optimal lambda that has minimum total cfv (lambda=0.01)\n",
    "optimal_lambda = 0.01\n",
    "\n",
    "print(\"\\nOptimal lambda value: \" + str(optimal_lambda))\n",
    "\n"
   ]
  },
  {
   "cell_type": "markdown",
   "metadata": {},
   "source": [
    "### Make a test with the best model"
   ]
  },
  {
   "cell_type": "code",
   "execution_count": 55,
   "metadata": {},
   "outputs": [
    {
     "name": "stdout",
     "output_type": "stream",
     "text": [
      "Total cfv for test dataset: 272.9158009615339\n"
     ]
    }
   ],
   "source": [
    "# Get cfv for each row in a list\n",
    "cost_function_values_2 = regularized_regression_cfv(l=optimal_lambda, thetas=optimal_thetas_2, start=80, end=len(data_all.index))\n",
    "\n",
    "# Get the total of cfv\n",
    "cost_function_values_total_2 = sum(cost_function_values_2)\n",
    "\n",
    "print('Total cfv for test dataset: ' + str(cost_function_values_total_2))    "
   ]
  },
  {
   "cell_type": "code",
   "execution_count": 56,
   "metadata": {},
   "outputs": [
    {
     "data": {
      "text/plain": [
       "\"\\n# Calculate thetas\\ndef find_thetas(alpha=0.1):\\n\\n    # Get the train data (70/100 for first question)\\n    d = data_all.iloc[0:70]\\n\\n    # Split data's x and y values\\n    # X train and Y train\\n    xt = d[X_columns]\\n    yt = d.Y\\n\\n    # Get the length of the rows\\n    train_size = len(xt.index)\\n    \\n    # Init the original thetas\\n    t = [1 for i in range(len(xt.columns))]\\n\\n    # Create temporary thetas for calculatin new thetas values with old ones\\n    # This will upgrade after calculation the original theta\\n    temp_thetas = t.copy()\\n\\n    # for every row (r)\\n    for r in range(train_size):\\n        # for every column (c)\\n        for c in range(len(t)):\\n            temp_thetas = t.copy()\\n            sm = (xt.iloc[r, c] * (temp_thetas[0]*(xt.iloc[r, 0]) + \\n                                                                temp_thetas[1]*(xt.iloc[r, 1]) + \\n                                                                temp_thetas[2]*(xt.iloc[r, 2]) + \\n                                                                temp_thetas[3]*(xt.iloc[r, 3]) + \\n                                                                temp_thetas[4]*(xt.iloc[r, 4]) + \\n                                                                temp_thetas[5]*(xt.iloc[r, 5]) - yt.iloc[r]))\\n            # Change the original thetas values with the formula given\\n            t[c] = temp_thetas[c] - ((alpha/train_size)*sm)\\n\\n    # for every column (c)\\n    for c in range(len(t)):\\n        # After calculating the c. -original- theta, reset the summation value and temporary thetas\\n        sm = 0\\n        temp_thetas = [1 for i in range(len(xt.columns))]\\n        \\n        # for every row (r)\\n        for r in range(train_size):\\n\\n            # Get the old thetas for calculating new ones\\n            temp_thetas = t.copy()\\n\\n            # Get the summation part\\n            # Every row of 'xt.iloc[r, 0]' aka column X0 is actually one, did not change anything\\n            sm = (xt.iloc[r, c] * (temp_thetas[0]*(xt.iloc[r, 0]) + \\n                                                                temp_thetas[1]*(xt.iloc[r, 1]) + \\n                                                                temp_thetas[2]*(xt.iloc[r, 2]) + \\n                                                                temp_thetas[3]*(xt.iloc[r, 3]) + \\n                                                                temp_thetas[4]*(xt.iloc[r, 4]) + \\n                                                                temp_thetas[5]*(xt.iloc[r, 5]) - yt.iloc[r]))\\n            # Change the original thetas values with the formula given\\n            t[c] = temp_thetas[c] - ((alpha/train_size)*sm)\\n\\n    # Return the theta values in an array\\n    return t\\n\""
      ]
     },
     "execution_count": 56,
     "metadata": {},
     "output_type": "execute_result"
    }
   ],
   "source": [
    "'''\n",
    "# Calculate thetas\n",
    "def find_thetas(alpha=0.1):\n",
    "\n",
    "    # Get the train data (70/100 for first question)\n",
    "    d = data_all.iloc[0:70]\n",
    "\n",
    "    # Split data's x and y values\n",
    "    # X train and Y train\n",
    "    xt = d[X_columns]\n",
    "    yt = d.Y\n",
    "\n",
    "    # Get the length of the rows\n",
    "    train_size = len(xt.index)\n",
    "    \n",
    "    # Init the original thetas\n",
    "    t = [1 for i in range(len(xt.columns))]\n",
    "\n",
    "    # Create temporary thetas for calculatin new thetas values with old ones\n",
    "    # This will upgrade after calculation the original theta\n",
    "    temp_thetas = t.copy()\n",
    "\n",
    "    # for every row (r)\n",
    "    for r in range(train_size):\n",
    "        # for every column (c)\n",
    "        for c in range(len(t)):\n",
    "            temp_thetas = t.copy()\n",
    "            sm = (xt.iloc[r, c] * (temp_thetas[0]*(xt.iloc[r, 0]) + \n",
    "                                                                temp_thetas[1]*(xt.iloc[r, 1]) + \n",
    "                                                                temp_thetas[2]*(xt.iloc[r, 2]) + \n",
    "                                                                temp_thetas[3]*(xt.iloc[r, 3]) + \n",
    "                                                                temp_thetas[4]*(xt.iloc[r, 4]) + \n",
    "                                                                temp_thetas[5]*(xt.iloc[r, 5]) - yt.iloc[r]))\n",
    "            # Change the original thetas values with the formula given\n",
    "            t[c] = temp_thetas[c] - ((alpha/train_size)*sm)\n",
    "\n",
    "    # for every column (c)\n",
    "    for c in range(len(t)):\n",
    "        # After calculating the c. -original- theta, reset the summation value and temporary thetas\n",
    "        sm = 0\n",
    "        temp_thetas = [1 for i in range(len(xt.columns))]\n",
    "        \n",
    "        # for every row (r)\n",
    "        for r in range(train_size):\n",
    "\n",
    "            # Get the old thetas for calculating new ones\n",
    "            temp_thetas = t.copy()\n",
    "\n",
    "            # Get the summation part\n",
    "            # Every row of 'xt.iloc[r, 0]' aka column X0 is actually one, did not change anything\n",
    "            sm = (xt.iloc[r, c] * (temp_thetas[0]*(xt.iloc[r, 0]) + \n",
    "                                                                temp_thetas[1]*(xt.iloc[r, 1]) + \n",
    "                                                                temp_thetas[2]*(xt.iloc[r, 2]) + \n",
    "                                                                temp_thetas[3]*(xt.iloc[r, 3]) + \n",
    "                                                                temp_thetas[4]*(xt.iloc[r, 4]) + \n",
    "                                                                temp_thetas[5]*(xt.iloc[r, 5]) - yt.iloc[r]))\n",
    "            # Change the original thetas values with the formula given\n",
    "            t[c] = temp_thetas[c] - ((alpha/train_size)*sm)\n",
    "\n",
    "    # Return the theta values in an array\n",
    "    return t\n",
    "'''"
   ]
  },
  {
   "cell_type": "code",
   "execution_count": 57,
   "metadata": {},
   "outputs": [
    {
     "data": {
      "text/plain": [
       "\"\\ndef find_thetas_for_question_two(alpha=0.1, l=0.01):\\n\\n    # Get the train data (70/100 for first question)\\n    d = data_all.iloc[0:70]\\n\\n    # Split data's x and y values\\n    # X train and Y train\\n    xt = d[X_columns]\\n    yt = d.Y\\n\\n    # Get the length of the rows (m)\\n    m_train = len(xt.index)\\n    \\n    # Init the original thetas\\n    t = [1 for i in range(len(xt.columns))]\\n\\n    # Create temporary thetas for calculatin new thetas values with old ones\\n    # This will upgrade after calculation the original theta\\n    temp_thetas = t.copy()\\n\\n    # for every row (r)\\n    for r in range(m_train):\\n        # Update temporary thetas outside of the calculation of the new thetas, use old ones instead\\n        temp_thetas = t.copy()\\n        \\n        # for every column (c)\\n        for c in range(len(t)):\\n            # Split the error part for readability\\n            sm1 = (xt.iloc[r, c] * (temp_thetas[0]*(xt.iloc[r, 0]) + \\n                                                                temp_thetas[1]*(xt.iloc[r, 1]) + \\n                                                                temp_thetas[2]*(xt.iloc[r, 2]) + \\n                                                                temp_thetas[3]*(xt.iloc[r, 3]) + \\n                                                                temp_thetas[4]*(xt.iloc[r, 4]) + \\n                                                                temp_thetas[5]*(xt.iloc[r, 5]) - yt.iloc[r]))\\n            # Find the new theta for each column (in each row)\\n            t[c] = temp_thetas[c] - ((alpha/m_train)*sm1) - l*2*sum(temp_thetas)\\n    return t\\n\\nprint(find_thetas_for_question_two(0.01))\\nprint(find_thetas_for_question_two(0.1))\\nprint(find_thetas_for_question_two(1))\\n\\n\\n\\ndef lambda_cost(l=0.01, t=optimal_thetas_2, start=0, end=len(data_all.index)):\\n    # Get thetas\\n\\n    # Get the train data (60/100 for second question)\\n    d = data_all.iloc[start:end]\\n    \\n    # Split data's x and y values\\n    # X train and Y train\\n    xt = d[X_columns]\\n    yt = d.Y\\n\\n    # Get the length of the rows\\n    train_size = len(xt.index)\\n    \\n    # Create sum of variables before loops and calculate the sums before calculation\\n    sm = 0\\n    sm_thetas = 0\\n\\n    # Find first sum\\n    # r is for every row\\n    for r in range(train_size):\\n        # Every row of 'xt.iloc[r, 0]' aka column X0 is actually one, did not change anything\\n        sm += (t[0]*(xt.iloc[r, 0]) + \\n                                        t[1]*(xt.iloc[r, 1]) + \\n                                        t[2]*(xt.iloc[r, 2]) + \\n                                        t[3]*(xt.iloc[r, 3]) + \\n                                        t[4]*(xt.iloc[r, 4]) + \\n                                        t[5]*(xt.iloc[r, 5]) - \\n                                        yt.iloc[r]) ** 2\\n    # Find seconds sum\\n    for i in t:\\n        sm_thetas += i**2\\n\\n    # Make calculation and return the value\\n    result = (1/(2*train_size))*sm + l*sm_thetas\\n    return result\\n\""
      ]
     },
     "execution_count": 57,
     "metadata": {},
     "output_type": "execute_result"
    }
   ],
   "source": [
    "'''\n",
    "def find_thetas_for_question_two(alpha=0.1, l=0.01):\n",
    "\n",
    "    # Get the train data (70/100 for first question)\n",
    "    d = data_all.iloc[0:70]\n",
    "\n",
    "    # Split data's x and y values\n",
    "    # X train and Y train\n",
    "    xt = d[X_columns]\n",
    "    yt = d.Y\n",
    "\n",
    "    # Get the length of the rows (m)\n",
    "    m_train = len(xt.index)\n",
    "    \n",
    "    # Init the original thetas\n",
    "    t = [1 for i in range(len(xt.columns))]\n",
    "\n",
    "    # Create temporary thetas for calculatin new thetas values with old ones\n",
    "    # This will upgrade after calculation the original theta\n",
    "    temp_thetas = t.copy()\n",
    "\n",
    "    # for every row (r)\n",
    "    for r in range(m_train):\n",
    "        # Update temporary thetas outside of the calculation of the new thetas, use old ones instead\n",
    "        temp_thetas = t.copy()\n",
    "        \n",
    "        # for every column (c)\n",
    "        for c in range(len(t)):\n",
    "            # Split the error part for readability\n",
    "            sm1 = (xt.iloc[r, c] * (temp_thetas[0]*(xt.iloc[r, 0]) + \n",
    "                                                                temp_thetas[1]*(xt.iloc[r, 1]) + \n",
    "                                                                temp_thetas[2]*(xt.iloc[r, 2]) + \n",
    "                                                                temp_thetas[3]*(xt.iloc[r, 3]) + \n",
    "                                                                temp_thetas[4]*(xt.iloc[r, 4]) + \n",
    "                                                                temp_thetas[5]*(xt.iloc[r, 5]) - yt.iloc[r]))\n",
    "            # Find the new theta for each column (in each row)\n",
    "            t[c] = temp_thetas[c] - ((alpha/m_train)*sm1) - l*2*sum(temp_thetas)\n",
    "    return t\n",
    "\n",
    "print(find_thetas_for_question_two(0.01))\n",
    "print(find_thetas_for_question_two(0.1))\n",
    "print(find_thetas_for_question_two(1))\n",
    "\n",
    "\n",
    "\n",
    "def lambda_cost(l=0.01, t=optimal_thetas_2, start=0, end=len(data_all.index)):\n",
    "    # Get thetas\n",
    "\n",
    "    # Get the train data (60/100 for second question)\n",
    "    d = data_all.iloc[start:end]\n",
    "    \n",
    "    # Split data's x and y values\n",
    "    # X train and Y train\n",
    "    xt = d[X_columns]\n",
    "    yt = d.Y\n",
    "\n",
    "    # Get the length of the rows\n",
    "    train_size = len(xt.index)\n",
    "    \n",
    "    # Create sum of variables before loops and calculate the sums before calculation\n",
    "    sm = 0\n",
    "    sm_thetas = 0\n",
    "\n",
    "    # Find first sum\n",
    "    # r is for every row\n",
    "    for r in range(train_size):\n",
    "        # Every row of 'xt.iloc[r, 0]' aka column X0 is actually one, did not change anything\n",
    "        sm += (t[0]*(xt.iloc[r, 0]) + \n",
    "                                        t[1]*(xt.iloc[r, 1]) + \n",
    "                                        t[2]*(xt.iloc[r, 2]) + \n",
    "                                        t[3]*(xt.iloc[r, 3]) + \n",
    "                                        t[4]*(xt.iloc[r, 4]) + \n",
    "                                        t[5]*(xt.iloc[r, 5]) - \n",
    "                                        yt.iloc[r]) ** 2\n",
    "    # Find seconds sum\n",
    "    for i in t:\n",
    "        sm_thetas += i**2\n",
    "\n",
    "    # Make calculation and return the value\n",
    "    result = (1/(2*train_size))*sm + l*sm_thetas\n",
    "    return result\n",
    "'''"
   ]
  }
 ],
 "metadata": {
  "kernelspec": {
   "display_name": "Python 3.9.13 64-bit ('anaconda3')",
   "language": "python",
   "name": "python3"
  },
  "language_info": {
   "codemirror_mode": {
    "name": "ipython",
    "version": 3
   },
   "file_extension": ".py",
   "mimetype": "text/x-python",
   "name": "python",
   "nbconvert_exporter": "python",
   "pygments_lexer": "ipython3",
   "version": "3.9.13"
  },
  "orig_nbformat": 4,
  "vscode": {
   "interpreter": {
    "hash": "2a5bab918500c3a27c83c494b562b57d38406af52f32585b0235d82cba8b1288"
   }
  }
 },
 "nbformat": 4,
 "nbformat_minor": 2
}
