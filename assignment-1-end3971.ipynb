{
 "cells": [
  {
   "cell_type": "markdown",
   "metadata": {},
   "source": [
    "# Group Memebers\n",
    "- Muhammed Talha Gedikli - 19069608\n",
    "- "
   ]
  },
  {
   "cell_type": "code",
   "execution_count": 30,
   "metadata": {},
   "outputs": [
    {
     "data": {
      "text/plain": [
       "[1, 1, 1, 1, 1, 1]"
      ]
     },
     "execution_count": 30,
     "metadata": {},
     "output_type": "execute_result"
    }
   ],
   "source": [
    "# Import required libraries\n",
    "import pandas as pd\n",
    "import numpy as np\n",
    "\n",
    "# Read data\n",
    "data_all = pd.read_excel('./Asg1 Data.xlsx')\n",
    "\n",
    "# Add arbitrary var (X0=1) to dataset\n",
    "# data_all['X0'] = np.ones(len(data_all.index), dtype=int)\n",
    "data_all['X0'] = [1 for i in range(len(data_all.index))]\n",
    "\n",
    "# Reassign the data order for readability\n",
    "data_all = data_all[['X0', 'X1', 'X2', 'X3', 'X4', 'X5', 'Y']]\n",
    "\n",
    "# Split train and test datasets (70 - 30)\n",
    "data_train = data_all.iloc[0:70]\n",
    "data_test = data_all.iloc[70:]\n",
    "\n",
    "# Get train values\n",
    "X_columns = ['X'+str(i) for i in range(len(data_all.columns)-1)] # -1 because of the 'Y' column\n",
    "X_train = data_train[X_columns]\n",
    "Y_train = data_train.Y\n",
    "\n",
    "# Get test values\n",
    "X_test = data_test[X_columns]\n",
    "Y_test = data_test.Y\n",
    "\n",
    "# Create a dataframe for parameters\n",
    "# Inıtially, set all of them to 1\n",
    "thetas = [1 for i in range(len(X_train.columns))] # -1 because of y column\n",
    "thetas"
   ]
  },
  {
   "cell_type": "code",
   "execution_count": 31,
   "metadata": {},
   "outputs": [
    {
     "name": "stdout",
     "output_type": "stream",
     "text": [
      "-4.1531837253616975e+163\n",
      "[4.1531837253616973e+160, 1, 1, 1, 1, 1]\n",
      "-3.8019679141701226e+164\n",
      "[4.1531837253616973e+160, 3.8019679141701225e+161, 1, 1, 1, 1]\n",
      "2.2755587880276357e+229\n",
      "[4.1531837253616973e+160, 3.8019679141701225e+161, -2.2755587880276357e+226, 1, 1, 1]\n",
      "-1.354186382885119e+285\n",
      "[4.1531837253616973e+160, 3.8019679141701225e+161, -2.2755587880276357e+226, 1.354186382885119e+282, 1, 1]\n",
      "inf\n",
      "[4.1531837253616973e+160, 3.8019679141701225e+161, -2.2755587880276357e+226, 1.354186382885119e+282, -inf, 1]\n",
      "nan\n",
      "[4.1531837253616973e+160, 3.8019679141701225e+161, -2.2755587880276357e+226, 1.354186382885119e+282, -inf, nan]\n"
     ]
    },
    {
     "name": "stderr",
     "output_type": "stream",
     "text": [
      "C:\\Users\\talha\\AppData\\Local\\Temp\\ipykernel_12508\\3386547498.py:21: RuntimeWarning: overflow encountered in double_scalars\n",
      "  thetas[3]*(xt.iloc[j, 3]**j) + thetas[4]*(xt.iloc[j, 4]**j) + thetas[5]*(xt.iloc[j, 5]**j) - yt.iloc[j]**j)\n",
      "C:\\Users\\talha\\AppData\\Local\\Temp\\ipykernel_12508\\3386547498.py:20: RuntimeWarning: invalid value encountered in double_scalars\n",
      "  _sum += xt.iloc[j, i] * (thetas[0]*1 + thetas[1]*(xt.iloc[j, 1]**j) + thetas[2]*(xt.iloc[j, 2]**j) +\n"
     ]
    },
    {
     "data": {
      "text/plain": [
       "[4.1531837253616973e+160,\n",
       " 3.8019679141701225e+161,\n",
       " -2.2755587880276357e+226,\n",
       " 1.354186382885119e+282,\n",
       " -inf,\n",
       " nan]"
      ]
     },
     "execution_count": 31,
     "metadata": {},
     "output_type": "execute_result"
    }
   ],
   "source": [
    "# Calculate thetas\n",
    "# Assign an alpha value (0.1 currently)\n",
    "alpha = 0.1\n",
    "\n",
    "# Assign them to temp variables for easy readability\n",
    "xt = X_train\n",
    "yt = Y_train\n",
    "'''\n",
    "for i in range(len(data_train.index)):\n",
    "    for j in range(len(data_train.columns)-1):\n",
    "        thetas[j] = thetas[j] - alpha * (0.01) * (xt.iloc[i, j] * (thetas[0]*(xt.iloc[i, 0]**0) + thetas[1]*(xt.iloc[i, 1]**1) + thetas[2]*(xt.iloc[i, 2]**2) + \n",
    "                                                                        thetas[3]*(xt.iloc[i, 3]**3) + thetas[4]*(xt.iloc[i, 4]**4) + thetas[5]*(xt.iloc[i, 5]**5) - yt.iloc[i]))\n",
    "'''\n",
    "# for every column (i)\n",
    "for i in range(len(X_train.columns)):\n",
    "    _sum = 0\n",
    "    # for every index (j)\n",
    "    for j in range(len(X_train.index)):\n",
    "        # thetas[0]*(xt.iloc[j, 0]**j) is already thetas[0] because we assume all x zeros to be one\n",
    "        _sum += xt.iloc[j, i] * (thetas[0]*1 + thetas[1]*(xt.iloc[j, 1]**j) + thetas[2]*(xt.iloc[j, 2]**j) + \n",
    "                                                                        thetas[3]*(xt.iloc[j, 3]**j) + thetas[4]*(xt.iloc[j, 4]**j) + thetas[5]*(xt.iloc[j, 5]**j) - yt.iloc[j]**j)\n",
    "    print(_sum)\n",
    "    thetas[i] = thetas[i] - (alpha * 0.01 * _sum)\n",
    "    print(thetas)\n",
    "\n",
    "thetas\n"
   ]
  }
 ],
 "metadata": {
  "kernelspec": {
   "display_name": "Python 3.9.13 64-bit ('anaconda3')",
   "language": "python",
   "name": "python3"
  },
  "language_info": {
   "codemirror_mode": {
    "name": "ipython",
    "version": 3
   },
   "file_extension": ".py",
   "mimetype": "text/x-python",
   "name": "python",
   "nbconvert_exporter": "python",
   "pygments_lexer": "ipython3",
   "version": "3.9.13"
  },
  "orig_nbformat": 4,
  "vscode": {
   "interpreter": {
    "hash": "2a5bab918500c3a27c83c494b562b57d38406af52f32585b0235d82cba8b1288"
   }
  }
 },
 "nbformat": 4,
 "nbformat_minor": 2
}
