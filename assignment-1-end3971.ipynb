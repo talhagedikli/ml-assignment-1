{
 "cells": [
  {
   "cell_type": "markdown",
   "metadata": {},
   "source": [
    "# Group Memebers\n",
    "- Muhammed Talha Gedikli - 19069608\n",
    "- "
   ]
  },
  {
   "cell_type": "code",
   "execution_count": 105,
   "metadata": {},
   "outputs": [],
   "source": [
    "# Import required libraries\n",
    "import pandas as pd\n",
    "import numpy as np\n",
    "\n",
    "# Read data\n",
    "data_all = pd.read_excel('./Asg1 Data.xlsx')\n",
    "\n",
    "# Add arbitrary var (X0=1) to dataset\n",
    "data_all['X0'] = np.ones(100, dtype=int)\n",
    "# Reassign the data order\n",
    "data_all = data_all[['X0', 'X1', 'X2', 'X3', 'X4', 'X5', 'Y']]\n",
    "\n",
    "# Split train and test datasets (70 - 30)\n",
    "data_train = data_all.iloc[0:70]\n",
    "data_test = data_all.iloc[70:]\n",
    "\n",
    "# Get train values\n",
    "X_features = ['X0', 'X1', 'X2', 'X3', 'X4', 'X5']\n",
    "\n",
    "X_train = data_train[X_features]\n",
    "Y_train = data_train.Y\n",
    "\n",
    "# Get test values\n",
    "X_test = data_test[X_features]\n",
    "Y_test = data_test.Y\n",
    "\n",
    "\n",
    "\n",
    "\n",
    "# Create a dataframe for parameters\n",
    "parameters = pd.DataFrame(1, index=np.arange(100), columns=['param_' + str(i) for i in range(6)])\n",
    "\n",
    "\n",
    "# assign value example\n",
    "# parameters.loc[0, 'param_0'] = 3\n",
    "# parameters.iloc[0, 0] = 3\n",
    "\n",
    "\n"
   ]
  }
 ],
 "metadata": {
  "kernelspec": {
   "display_name": "Python 3.9.13 64-bit ('anaconda3')",
   "language": "python",
   "name": "python3"
  },
  "language_info": {
   "codemirror_mode": {
    "name": "ipython",
    "version": 3
   },
   "file_extension": ".py",
   "mimetype": "text/x-python",
   "name": "python",
   "nbconvert_exporter": "python",
   "pygments_lexer": "ipython3",
   "version": "3.9.13"
  },
  "orig_nbformat": 4,
  "vscode": {
   "interpreter": {
    "hash": "2a5bab918500c3a27c83c494b562b57d38406af52f32585b0235d82cba8b1288"
   }
  }
 },
 "nbformat": 4,
 "nbformat_minor": 2
}
