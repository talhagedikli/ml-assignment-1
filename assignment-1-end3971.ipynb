{
 "cells": [
  {
   "cell_type": "markdown",
   "metadata": {},
   "source": [
    "## Group Memebers\n",
    "- Muhammed Talha Gedikli - 19069608\n",
    "- İsmail Uğurlu - 19069020  "
   ]
  },
  {
   "cell_type": "markdown",
   "metadata": {},
   "source": [
    "## Load required libraries and data"
   ]
  },
  {
   "cell_type": "code",
   "execution_count": 62,
   "metadata": {},
   "outputs": [],
   "source": [
    "# Import required libraries\n",
    "import pandas as pd\n",
    "import numpy as np\n",
    "\n",
    "# Read data\n",
    "data_all = pd.read_excel('./Asg1 Data.xlsx')\n",
    "\n",
    "# Add variable X0=1 column to dataset\n",
    "data_all['X0'] = [1 for i in range(len(data_all.index))]\n",
    "\n",
    "# Reassign the data order for readability\n",
    "data_all = data_all[['X0', 'X1', 'X2', 'X3', 'X4', 'X5', 'Y']]\n",
    "\n",
    "# Get the column names for x\n",
    "# Y columnt can be called by 'datafram.Y'\n",
    "X_columns = ['X'+str(i) for i in range(len(data_all.columns)-1)] # -1 because of the 'Y' column\n",
    "\n",
    "\n",
    "\n"
   ]
  },
  {
   "cell_type": "markdown",
   "metadata": {},
   "source": [
    "Added a column of ones called 'X0' for readability and easy of use. Reason I do this is actually I want the size columns of X's to be equal to size of the thetas. Here it is:"
   ]
  },
  {
   "cell_type": "code",
   "execution_count": 58,
   "metadata": {},
   "outputs": [
    {
     "name": "stdout",
     "output_type": "stream",
     "text": [
      "    X0        X1        X2         X3         X4        X5           Y\n",
      "0    1  5.070040  3.216041   7.314219   4.914274  2.298624  166.845348\n",
      "1    1  3.289895  6.098758  12.513047   4.952361  3.669576  177.761324\n",
      "2    1  8.321482  5.872616   8.272805   6.123539  5.037049  271.932515\n",
      "3    1  2.391430  5.447249  13.211005   4.384228  6.323588  158.586530\n",
      "4    1  2.976470  6.552324   7.889798   6.885678  1.810266  188.995212\n",
      "..  ..       ...       ...        ...        ...       ...         ...\n",
      "95   1  7.932066  4.119327  14.253517   5.315378  5.479080  223.145999\n",
      "96   1  3.722648  3.101230  12.454451   3.950987  2.991333  139.290134\n",
      "97   1  0.266121  5.311930   9.985809   5.048769  5.165960  147.060504\n",
      "98   1  0.932646  4.031983   7.018494  10.760643  6.605762  156.150843\n",
      "99   1  6.904508  4.352794  13.947417  12.054018  5.100406  212.326746\n",
      "\n",
      "[100 rows x 7 columns]\n"
     ]
    }
   ],
   "source": [
    "print(data_all)"
   ]
  },
  {
   "cell_type": "markdown",
   "metadata": {},
   "source": [
    "## Calculate temp_thetas with train dataset"
   ]
  },
  {
   "cell_type": "code",
   "execution_count": 59,
   "metadata": {},
   "outputs": [],
   "source": [
    "# Calculate thetas\n",
    "def find_thetas(alpha=0.1):\n",
    "\n",
    "    # Get the train data (70/100 for first question)\n",
    "    d = data_all.iloc[0:70]\n",
    "\n",
    "    # Split data's x and y values\n",
    "    # X train and Y train\n",
    "    xt = d[X_columns]\n",
    "    yt = d.Y\n",
    "\n",
    "    # Get the length of the rows\n",
    "    train_size = len(xt.index)\n",
    "    \n",
    "    # Init the original thetas\n",
    "    t = [1 for i in range(len(xt.columns))]\n",
    "\n",
    "    # Create temporary thetas for calculatin new thetas values with old ones\n",
    "    # This will upgrade after calculation the original theta\n",
    "    temp_thetas = t.copy()\n",
    "\n",
    "    # for every column (c)\n",
    "    for c in range(len(t)):\n",
    "        \n",
    "        # After calculating the c. -original- theta, reset the summation value and temporary thetas\n",
    "        sm = 0\n",
    "        temp_thetas = [1 for i in range(len(xt.columns))]\n",
    "        \n",
    "        # for every row (r)\n",
    "        for r in range(train_size):\n",
    "\n",
    "            # Get the old thetas for calculating new ones\n",
    "            temp_thetas = t.copy()\n",
    "\n",
    "            # Get the summation part\n",
    "            # Every row of 'xt.iloc[r, 0]' aka column X0 is actually one, did not change anything\n",
    "            sm += (xt.iloc[r, c] * (temp_thetas[0]*(xt.iloc[r, 0]) + \n",
    "                                                                temp_thetas[1]*(xt.iloc[r, 1]) + \n",
    "                                                                temp_thetas[2]*(xt.iloc[r, 2]) + \n",
    "                                                                temp_thetas[3]*(xt.iloc[r, 3]) + \n",
    "                                                                temp_thetas[4]*(xt.iloc[r, 4]) + \n",
    "                                                                temp_thetas[5]*(xt.iloc[r, 5]) - yt.iloc[r]))\n",
    "            # Change the original thetas values with the formula given\n",
    "            t[c] = temp_thetas[c] - ((alpha/train_size)*sm)\n",
    "\n",
    "    # Return the theta values in an array\n",
    "    return t\n",
    "\n",
    "# Find the original thetas with alpha equals 0.1\n",
    "original_thetas = find_thetas()\n",
    "\n",
    "# Calculate error of each row \n",
    "def row_error():\n",
    "    errors = []\n",
    "    current_error = 0\n",
    "    # Get the train data (70/100 for first question) and rest of it is test data\n",
    "    d = data_all.iloc[70:]\n",
    "\n",
    "    # Split data's x and y values\n",
    "    # X test and Y test\n",
    "    xt = d[X_columns]\n",
    "    yt = d.Y\n",
    "\n",
    "    # Get the length of the rows\n",
    "    train_size = len(xt.index)\n",
    "    \n",
    "    # Init the original thetas\n",
    "    t = original_thetas.copy()\n",
    "\n",
    "    # for every column (c)\n",
    "    for c in range(len(t)):\n",
    "        \n",
    "        # After calculating the c th (original) theta, reset the summation value and temporary thetas\n",
    "        sm = 0\n",
    "        temp_thetas = [1 for i in range(len(xt.columns))]\n",
    "        \n",
    "        # for every row (r)\n",
    "        for r in range(train_size):\n",
    "\n",
    "            # Get the old thetas for calculating new ones\n",
    "            temp_thetas = t.copy()\n",
    "            current_error = (t[0]*(xt.iloc[r, 0]) + \n",
    "                                                t[1]*(xt.iloc[r, 1]) + \n",
    "                                                t[2]*(xt.iloc[r, 2]) + \n",
    "                                                t[3]*(xt.iloc[r, 3]) + \n",
    "                                                t[4]*(xt.iloc[r, 4]) + \n",
    "                                                t[5]*(xt.iloc[r, 5]) - yt.iloc[r])\n",
    "            # Get the summation part\n",
    "            # Every row of 'xt.iloc[r, 0]' aka column X0 is actually one, did not change anything\n",
    "            sm += (xt.iloc[r, c] * (temp_thetas[0]*(xt.iloc[r, 0]) + \n",
    "                                                                temp_thetas[1]*(xt.iloc[r, 1]) + \n",
    "                                                                temp_thetas[2]*(xt.iloc[r, 2]) + \n",
    "                                                                temp_thetas[3]*(xt.iloc[r, 3]) + \n",
    "                                                                temp_thetas[4]*(xt.iloc[r, 4]) + \n",
    "                                                                temp_thetas[5]*(xt.iloc[r, 5]) - yt.iloc[r]))\n",
    "            # Change the original thetas values with the formula given\n",
    "            t[c] = temp_thetas[c] - ((alpha/train_size)*sm)\n",
    "\n",
    "    # Return the theta values in an array\n",
    "    return t\n",
    "    \n"
   ]
  },
  {
   "cell_type": "markdown",
   "metadata": {},
   "source": [
    "## Get Errors"
   ]
  },
  {
   "cell_type": "code",
   "execution_count": null,
   "metadata": {},
   "outputs": [],
   "source": []
  },
  {
   "cell_type": "markdown",
   "metadata": {},
   "source": [
    "## Find Lambdas"
   ]
  },
  {
   "cell_type": "code",
   "execution_count": 60,
   "metadata": {},
   "outputs": [
    {
     "name": "stdout",
     "output_type": "stream",
     "text": [
      "25423.042099894396\n",
      "33647.2416957062\n",
      "115889.23765382424\n"
     ]
    }
   ],
   "source": [
    "\n",
    "def lambda_cost(l):\n",
    "    # Get thetas\n",
    "    t = original_thetas.copy()\n",
    "\n",
    "    # Get the train data (60/100 for second question)\n",
    "    d = data_all.iloc[0:60]\n",
    "    \n",
    "    # Split data's x and y values\n",
    "    # X train and Y train\n",
    "    xt = d[X_columns]\n",
    "    yt = d.Y\n",
    "\n",
    "    # Get the length of the rows\n",
    "    train_size = len(xt.index)\n",
    "    \n",
    "    # Create sum of variables before loops and calculate the sums before calculation\n",
    "    sm = 0\n",
    "    sm_thetas = 0\n",
    "\n",
    "    # Find first sum\n",
    "    # r is for every row\n",
    "    for r in range(train_size):\n",
    "        # Every row of 'xt.iloc[r, 0]' aka column X0 is actually one, did not change anything\n",
    "        sm += (t[0]*(xt.iloc[r, 0]) + \n",
    "                                        t[1]*(xt.iloc[r, 1]) + \n",
    "                                        t[2]*(xt.iloc[r, 2]) + \n",
    "                                        t[3]*(xt.iloc[r, 3]) + \n",
    "                                        t[4]*(xt.iloc[r, 4]) + \n",
    "                                        t[5]*(xt.iloc[r, 5]) - \n",
    "                                        yt.iloc[r]) ** 2\n",
    "    # Find seconds sum\n",
    "    for i in t:\n",
    "        sm_thetas += i**2\n",
    "\n",
    "    # Make calculation and return the value\n",
    "    result = (1/(2*train_size))*sm + l*sm_thetas\n",
    "    return result\n",
    "\n",
    "\n",
    "# Find the most efficient lambda\n",
    "print(lambda_cost(0.01))    # 25423.042099894396\n",
    "print(lambda_cost(0.1))     # 33647.2416957062\n",
    "print(lambda_cost(1))       # 115889.23765382424\n",
    "\n",
    "# Take the optimal lambda (lambda=0.01)\n",
    "optimal_lambda = 0.01\n",
    "\n"
   ]
  }
 ],
 "metadata": {
  "kernelspec": {
   "display_name": "Python 3.9.13 64-bit ('anaconda3')",
   "language": "python",
   "name": "python3"
  },
  "language_info": {
   "codemirror_mode": {
    "name": "ipython",
    "version": 3
   },
   "file_extension": ".py",
   "mimetype": "text/x-python",
   "name": "python",
   "nbconvert_exporter": "python",
   "pygments_lexer": "ipython3",
   "version": "3.9.13"
  },
  "orig_nbformat": 4,
  "vscode": {
   "interpreter": {
    "hash": "2a5bab918500c3a27c83c494b562b57d38406af52f32585b0235d82cba8b1288"
   }
  }
 },
 "nbformat": 4,
 "nbformat_minor": 2
}
